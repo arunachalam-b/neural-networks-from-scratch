{
 "cells": [
  {
   "cell_type": "code",
   "execution_count": 6,
   "id": "3b60b759",
   "metadata": {},
   "outputs": [],
   "source": [
    "import numpy as np\n"
   ]
  },
  {
   "cell_type": "code",
   "execution_count": 7,
   "id": "b44332f9",
   "metadata": {},
   "outputs": [
    {
     "name": "stdout",
     "output_type": "stream",
     "text": [
      "Output:  [[ 4.8    1.21   2.385]\n",
      " [ 8.9   -1.81   0.2  ]\n",
      " [ 1.41   1.051  0.026]]\n"
     ]
    }
   ],
   "source": [
    "inputs = [[1, 2, 3, 2.5], \n",
    "          [2, 5, -1, 2], \n",
    "          [-1.5, 2.7, 3.3, -0.8]]\n",
    "weights = [[0.2, 0.8, -0.5, 1], \n",
    "           [0.5, -0.91, 0.26, -0.5], \n",
    "           [-0.26, -0.27, 0.17, 0.87]]\n",
    "biases = [2, 3, 0.5]\n",
    "\n",
    "inputs_array = np.array(inputs)\n",
    "weights_array = np.array(weights)\n",
    "biases_array = np.array(biases)\n",
    "\n",
    "output = np.dot(inputs_array, weights_array.T) + biases_array\n",
    "print(\"Output: \", output)\n"
   ]
  },
  {
   "cell_type": "code",
   "execution_count": 8,
   "id": "29e3b007",
   "metadata": {},
   "outputs": [
    {
     "name": "stdout",
     "output_type": "stream",
     "text": [
      "Layer 1 Output:  [[ 4.8    1.21   2.385]\n",
      " [ 8.9   -1.81   0.2  ]\n",
      " [ 1.41   1.051  0.026]]\n",
      "Layer 2 Output:  [[ 0.5031  -1.04185 -2.03875]\n",
      " [ 0.2434  -2.7332  -5.7633 ]\n",
      " [-0.99314  1.41254 -0.35655]]\n"
     ]
    }
   ],
   "source": [
    "weights2 = [[0.1, -0.14, 0.5], \n",
    "            [-0.5, 0.12, -0.33], \n",
    "            [-0.44, 0.73, -0.13]]\n",
    "biases2 = [-1, 2, -0.5]\n",
    "\n",
    "weights2_array = np.array(weights2)\n",
    "biases2_array = np.array(biases2)\n",
    "\n",
    "layer1_output = np.dot(inputs_array, weights_array.T) + biases_array\n",
    "layer2_output = np.dot(layer1_output, weights2_array.T) + biases2_array\n",
    "\n",
    "print(\"Layer 1 Output: \", layer1_output)\n",
    "print(\"Layer 2 Output: \", layer2_output)\n"
   ]
  }
 ],
 "metadata": {
  "kernelspec": {
   "display_name": "base",
   "language": "python",
   "name": "python3"
  },
  "language_info": {
   "codemirror_mode": {
    "name": "ipython",
    "version": 3
   },
   "file_extension": ".py",
   "mimetype": "text/x-python",
   "name": "python",
   "nbconvert_exporter": "python",
   "pygments_lexer": "ipython3",
   "version": "3.12.7"
  }
 },
 "nbformat": 4,
 "nbformat_minor": 5
}
