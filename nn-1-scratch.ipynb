{
 "cells": [
  {
   "cell_type": "code",
   "execution_count": 2,
   "metadata": {},
   "outputs": [
    {
     "name": "stdout",
     "output_type": "stream",
     "text": [
      "15\n"
     ]
    }
   ],
   "source": [
    "input = [1, 2, 3]\n",
    "\n",
    "weights = [1, 2, 3]\n",
    "\n",
    "bias = 1\n",
    "\n",
    "output = 0\n",
    "\n",
    "# for (i, j) in zip(input, weights):\n",
    "for i in range(len(input)):\n",
    "    output += input[i] * weights[i]\n",
    "\n",
    "output += bias\n",
    "\n",
    "print(output)\n",
    "\n"
   ]
  }
 ],
 "metadata": {
  "kernelspec": {
   "display_name": "Python 3",
   "language": "python",
   "name": "python3"
  },
  "language_info": {
   "codemirror_mode": {
    "name": "ipython",
    "version": 3
   },
   "file_extension": ".py",
   "mimetype": "text/x-python",
   "name": "python",
   "nbconvert_exporter": "python",
   "pygments_lexer": "ipython3",
   "version": "3.12.8"
  }
 },
 "nbformat": 4,
 "nbformat_minor": 2
}
