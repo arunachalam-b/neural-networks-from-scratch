{
 "cells": [
  {
   "cell_type": "code",
   "execution_count": 3,
   "metadata": {},
   "outputs": [
    {
     "name": "stdout",
     "output_type": "stream",
     "text": [
      "15\n"
     ]
    }
   ],
   "source": [
    "input = [1, 2, 3]\n",
    "\n",
    "weights = [1, 2, 3]\n",
    "\n",
    "bias = 1\n",
    "\n",
    "output = 0\n",
    "\n",
    "# for (i, j) in zip(input, weights):\n",
    "for i in range(len(input)):\n",
    "    output += input[i] * weights[i]\n",
    "\n",
    "output += bias\n",
    "\n",
    "print(output)\n",
    "\n"
   ]
  },
  {
   "cell_type": "code",
   "execution_count": 4,
   "metadata": {},
   "outputs": [
    {
     "name": "stdout",
     "output_type": "stream",
     "text": [
      "[11, 22, 33, 44]\n"
     ]
    }
   ],
   "source": [
    "input = [1, 2, 3, 4]\n",
    "\n",
    "weights = [[1, 2, 3, 4], [1, 2, 3, 4], [1, 2, 3, 4], [1, 2, 3, 4]]\n",
    "\n",
    "bias = [1, 2, 3, 4]\n",
    "\n",
    "output = [0, 0, 0, 0]\n",
    "\n",
    "# for (i, j) in zip(input, weights):\n",
    "    # for (k, l) in zip(i, j):\n",
    "    #     output[k] += i * j\n",
    "\n",
    "for i in range(len(input)):\n",
    "    for j in range(len(weights)):\n",
    "        output[i] += input[i] * weights[i][j]\n",
    "    output[i] += bias[i]\n",
    "\n",
    "# for (i, j) in zip(output, bias):\n",
    "#     output[i] += j\n",
    "\n",
    "print(output)\n"
   ]
  }
 ],
 "metadata": {
  "kernelspec": {
   "display_name": "Python 3",
   "language": "python",
   "name": "python3"
  },
  "language_info": {
   "codemirror_mode": {
    "name": "ipython",
    "version": 3
   },
   "file_extension": ".py",
   "mimetype": "text/x-python",
   "name": "python",
   "nbconvert_exporter": "python",
   "pygments_lexer": "ipython3",
   "version": "3.12.8"
  }
 },
 "nbformat": 4,
 "nbformat_minor": 2
}
