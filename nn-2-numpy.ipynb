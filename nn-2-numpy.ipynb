{
 "cells": [
  {
   "cell_type": "code",
   "execution_count": null,
   "id": "2ada6f66",
   "metadata": {},
   "outputs": [
    {
     "name": "stdout",
     "output_type": "stream",
     "text": [
      "Output 1: 4.8\n",
      "Output 2: 4.8\n"
     ]
    }
   ],
   "source": [
    "import numpy as np\n",
    "\n",
    "## Neuron\n",
    "inputs = [1, 2, 3, 2.5]\n",
    "weights = [0.2, 0.8, -0.5, 1.0]\n",
    "bias = 2.0\n",
    "output = np.dot(inputs, weights) + bias\n",
    "output2 = np.dot(weights, inputs) + bias\n",
    "print(\"Output 1:\", output)\n",
    "print(\"Output 2:\", output2)\n"
   ]
  },
  {
   "cell_type": "code",
   "execution_count": 4,
   "id": "d0ed0ffd",
   "metadata": {},
   "outputs": [
    {
     "name": "stdout",
     "output_type": "stream",
     "text": [
      "Output:  [4.8   1.21  2.385]\n"
     ]
    }
   ],
   "source": [
    "## Layer\n",
    "inputs = [1, 2, 3, 2.5]\n",
    "weights = [[0.2, 0.8, -0.5, 1], \n",
    "           [0.5, -0.91, 0.26, -0.5], \n",
    "           [-0.26, -0.27, 0.17, 0.87]]\n",
    "biases = [2, 3, 0.5]\n",
    "output = np.dot(weights, inputs) + biases\n",
    "print(\"Output: \", output)\n"
   ]
  }
 ],
 "metadata": {
  "kernelspec": {
   "display_name": "base",
   "language": "python",
   "name": "python3"
  },
  "language_info": {
   "codemirror_mode": {
    "name": "ipython",
    "version": 3
   },
   "file_extension": ".py",
   "mimetype": "text/x-python",
   "name": "python",
   "nbconvert_exporter": "python",
   "pygments_lexer": "ipython3",
   "version": "3.12.7"
  }
 },
 "nbformat": 4,
 "nbformat_minor": 5
}
