{
 "cells": [
  {
   "cell_type": "code",
   "execution_count": 15,
   "id": "9b07234f",
   "metadata": {},
   "outputs": [],
   "source": [
    "import numpy as np\n"
   ]
  },
  {
   "cell_type": "code",
   "execution_count": 16,
   "id": "4af6bde8",
   "metadata": {},
   "outputs": [
    {
     "name": "stdout",
     "output_type": "stream",
     "text": [
      "45\n"
     ]
    }
   ],
   "source": [
    "A = [[1, 2, 3], [4, 5, 6], [7, 8, 9]]\n",
    "\n",
    "print(np.sum(A))\n"
   ]
  },
  {
   "cell_type": "code",
   "execution_count": 17,
   "id": "ba33bf17",
   "metadata": {},
   "outputs": [
    {
     "name": "stdout",
     "output_type": "stream",
     "text": [
      "[12 15 18]\n",
      "(3,)\n"
     ]
    }
   ],
   "source": [
    "print(np.sum(A, axis = 0))\n",
    "print(np.sum(A, axis = 0).shape)\n"
   ]
  },
  {
   "cell_type": "code",
   "execution_count": 18,
   "id": "7324ba79",
   "metadata": {},
   "outputs": [
    {
     "name": "stdout",
     "output_type": "stream",
     "text": [
      "[ 6 15 24]\n",
      "(3,)\n"
     ]
    }
   ],
   "source": [
    "print(np.sum(A, axis = 1))\n",
    "print(np.sum(A, axis = 1).shape)\n"
   ]
  },
  {
   "cell_type": "code",
   "execution_count": 19,
   "id": "fc36991f",
   "metadata": {},
   "outputs": [
    {
     "name": "stdout",
     "output_type": "stream",
     "text": [
      "[[12 15 18]]\n",
      "(1, 3)\n"
     ]
    }
   ],
   "source": [
    "print(np.sum(A, axis = 0, keepdims = True))\n",
    "print(np.sum(A, axis = 0, keepdims = True).shape)\n"
   ]
  },
  {
   "cell_type": "code",
   "execution_count": 20,
   "id": "625dedd0",
   "metadata": {},
   "outputs": [
    {
     "name": "stdout",
     "output_type": "stream",
     "text": [
      "[[ 6]\n",
      " [15]\n",
      " [24]]\n",
      "(3, 1)\n"
     ]
    }
   ],
   "source": [
    "print(np.sum(A, axis = 1, keepdims = True))\n",
    "print(np.sum(A, axis = 1, keepdims = True).shape)\n"
   ]
  },
  {
   "cell_type": "code",
   "execution_count": 21,
   "id": "630667f0",
   "metadata": {},
   "outputs": [
    {
     "name": "stdout",
     "output_type": "stream",
     "text": [
      "[7 8 9]\n",
      "[3 6 9]\n"
     ]
    }
   ],
   "source": [
    "print(np.max(A, axis = 0))\n",
    "print(np.max(A, axis = 1))\n"
   ]
  }
 ],
 "metadata": {
  "kernelspec": {
   "display_name": "base",
   "language": "python",
   "name": "python3"
  },
  "language_info": {
   "codemirror_mode": {
    "name": "ipython",
    "version": 3
   },
   "file_extension": ".py",
   "mimetype": "text/x-python",
   "name": "python",
   "nbconvert_exporter": "python",
   "pygments_lexer": "ipython3",
   "version": "3.12.7"
  }
 },
 "nbformat": 4,
 "nbformat_minor": 5
}
